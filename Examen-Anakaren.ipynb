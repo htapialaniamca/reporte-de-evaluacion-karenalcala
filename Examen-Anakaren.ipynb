{
 "cells": [
  {
   "cell_type": "markdown",
   "metadata": {},
   "source": [
    "# Conectar rpi-lania2 a rpi-lania3 "
   ]
  },
  {
   "cell_type": "markdown",
   "metadata": {},
   "source": [
    "Anakaren Alcala Juárez"
   ]
  },
  {
   "cell_type": "markdown",
   "metadata": {},
   "source": [
    "Primero se realizó la conexion a la raspberry desde la computadora usando GitBash. me conecte a la rpi-lania2 con el comando ssh pi@rpi-lania2.local, después de esto pide la contraseña para poder entrar como lo muestra la siguientes imagenes."
   ]
  },
  {
   "cell_type": "markdown",
   "metadata": {},
   "source": [
    "  ![uno](http://i64.tinypic.com/2rm9k7c.jpg)\n",
    "  ![dos](http://i64.tinypic.com/2vrttvl.png)"
   ]
  },
  {
   "cell_type": "markdown",
   "metadata": {},
   "source": [
    "Después puse cd comandes/python una vez en esa ruta puse ls para ver que archivos tenia, el código para encender los led se llama ledequipo2.py, después pase el archivo ledequipo2.py a la rpi-lania3 con el comando scp ledequipo2,py pi@rpi-lania3.local:~/comades/python lo siguiente fue espera a que el archivo se transfiriera como lo muestra la siguiente imagen.\n"
   ]
  },
  {
   "cell_type": "markdown",
   "metadata": {},
   "source": [
    "![tres](http://i66.tinypic.com/12543h1.png)"
   ]
  },
  {
   "cell_type": "markdown",
   "metadata": {},
   "source": [
    "Lo siguiente que hice fue modificar el archivo machinfile con el comando nano machinefile y lo que hice fue colocar rpi-lania2.loca y rpi-lania3.local esto indica que la rpi-lania2.loca es el master y rpi-lania3.loca seria el esclavo, después de esto no guarde la modificación en el archivo y salí del archivo con la combinación de las teclas control x, esto se muestra en la imagen siguiente."
   ]
  },
  {
   "cell_type": "markdown",
   "metadata": {},
   "source": [
    "![cuatro](http://i65.tinypic.com/2r5qq7q.png)"
   ]
  },
  {
   "cell_type": "markdown",
   "metadata": {},
   "source": [
    "El último paso que hice fue ejecutar el siguiente comando mpirun.openmpi -n 2 – machinefile machinefile python ledequipo2.py para ver si funcionaria, después de ejecutar el comando me arrojo un error que se muestra en la siguiente imagen, este error fue debido a que el archivo machinefile que termine por no editar este tenía más de dos nombres de host."
   ]
  },
  {
   "cell_type": "markdown",
   "metadata": {},
   "source": [
    "![cinco](http://i63.tinypic.com/es5iz5.png)"
   ]
  },
  {
   "cell_type": "markdown",
   "metadata": {},
   "source": [
    "Para solucionar este error lo que hice fue ejercutar un comando el cual no tenía que ver con el archivo machinefile, el comando es el siguiente mpirun.openmpi -n 2 -host rpi-lania2.local,rpi-lania3.local python ledequipo2.py después de ejecutarlo si se prendieron los led que estaban conectados con la raspberry del equipo 3, lo que salió se muestra en la siguiente imagen. "
   ]
  },
  {
   "cell_type": "markdown",
   "metadata": {},
   "source": [
    "![seis](http://i63.tinypic.com/29enlvb.png)\n",
    "![siete](http://i65.tinypic.com/2s1lmj7.png)\n",
    "![ocho](http://i63.tinypic.com/2jccars.png)"
   ]
  },
  {
   "cell_type": "markdown",
   "metadata": {},
   "source": [
    "Solucioné el problema que se presentó cuando lo quise ejecutar con el archivo machinefile con el comando mencionado anterior mente que no necesita un archivo machinefile ya que se le envía el nombre de host este interpreta que el master es el primer nombre de host es este caso rpi-lania2.local y los siguientes como esclavos en este caso fue rpi-lania3.local."
   ]
  },
  {
   "cell_type": "code",
   "execution_count": null,
   "metadata": {
    "collapsed": true
   },
   "outputs": [],
   "source": []
  }
 ],
 "metadata": {
  "kernelspec": {
   "display_name": "Python 2",
   "language": "python",
   "name": "python2"
  },
  "language_info": {
   "codemirror_mode": {
    "name": "ipython",
    "version": 2
   },
   "file_extension": ".py",
   "mimetype": "text/x-python",
   "name": "python",
   "nbconvert_exporter": "python",
   "pygments_lexer": "ipython2",
   "version": "2.7.13"
  }
 },
 "nbformat": 4,
 "nbformat_minor": 2
}
